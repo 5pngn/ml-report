{
 "cells": [
  {
   "cell_type": "code",
   "execution_count": 92,
   "id": "aa97d82e",
   "metadata": {},
   "outputs": [],
   "source": [
    "import numpy as np\n",
    "import math\n",
    "np.random.seed(123)\n",
    "\n",
    "def sign(x):\n",
    "    x = np.sign(x)\n",
    "    if len(x.shape) == 0: # スカラーの時変な挙動になるので\n",
    "        if x == 0:\n",
    "            x = -1\n",
    "        return x\n",
    "    for i in range(x.shape[0]):\n",
    "        if x[i] == 0:\n",
    "            x[i] = -1\n",
    "    return x\n",
    "\n",
    "# dataset 4\n",
    "n = 200\n",
    "x_d4 = 3 * (np.random.rand(n, 4) - 0.5)\n",
    "y_d4 = (2 * x_d4[:, 0] - 1 * x_d4[:,1] + 0.5 + 0.5 * np.random.randn(n)) > 0\n",
    "y_d4 = 2 * y_d4 -1\n",
    "x, y = x_d4, y_d4\n",
    "\n",
    "lmd = 0.1 # 正則化項\n",
    "delta = 0.01 # 勾配降下法の学習率\n",
    "# x: n x 4 / y: n (vec) / w: 4\n",
    "\n",
    "def J(w):\n",
    "    global x, y\n",
    "    return sum([math.log(1 + math.e**(-y[i] * np.dot(w.T, x[i]))) for i in range(n)]) + lmd * np.dot(w.T, w)\n",
    "\n",
    "def dJdw(w):\n",
    "    global x, y\n",
    "    return sum([(-y[i] * x[i]) * math.e**(-y[i] * np.dot(w.T, x[i]))/(1 + math.e**(-y[i] * np.dot(w.T, x[i]))) for i in range(n)]) + 2 * lmd * w\n",
    "\n",
    "def J_hessian(w):\n",
    "    global x, y\n",
    "    return sum([y[i]**2 * np.dot(np.expand_dims(x[i], 0).T, np.expand_dims(x[i], 0)) * math.e**(-y[i] * np.dot(w.T, x[i])) / (1 + math.e**(-y[i] * np.dot(w.T, x[i])))\\\n",
    "                - y[i]**2 * np.dot(np.expand_dims(x[i], 0).T, np.expand_dims(x[i], 0)) * (math.e**(-y[i] * np.dot(w.T, x[i])))**2/(1 + math.e**(-y[i] * np.dot(w.T, x[i])))**2\\\n",
    "               for i in range(n)]) + 2 * lmd * np.eye(x[0].shape[0])\n",
    "    \n",
    "\n",
    "def check(w):\n",
    "    global x, y\n",
    "    wrong = 0\n",
    "    for i in range(n):\n",
    "        y2 = sign(np.dot(w.T, x[i]))\n",
    "        if y[i] != y2:\n",
    "            wrong += 1\n",
    "    return wrong"
   ]
  },
  {
   "cell_type": "markdown",
   "id": "5bba8ac5",
   "metadata": {},
   "source": [
    "# 最急降下法"
   ]
  },
  {
   "cell_type": "code",
   "execution_count": 124,
   "id": "c01337b8",
   "metadata": {},
   "outputs": [],
   "source": [
    "w = np.zeros(4)"
   ]
  },
  {
   "cell_type": "code",
   "execution_count": 125,
   "id": "f2229440",
   "metadata": {},
   "outputs": [
    {
     "data": {
      "text/plain": [
       "112"
      ]
     },
     "execution_count": 125,
     "metadata": {},
     "output_type": "execute_result"
    }
   ],
   "source": [
    "check(w)"
   ]
  },
  {
   "cell_type": "code",
   "execution_count": 126,
   "id": "5471a509",
   "metadata": {
    "scrolled": true
   },
   "outputs": [],
   "source": [
    "res1 = []\n",
    "res1.append(w.copy())\n",
    "for i in range(200):\n",
    "    w -= delta * dJdw(w)\n",
    "    res1.append(w.copy())"
   ]
  },
  {
   "cell_type": "code",
   "execution_count": 127,
   "id": "dee7daae",
   "metadata": {},
   "outputs": [
    {
     "data": {
      "text/plain": [
       "19"
      ]
     },
     "execution_count": 127,
     "metadata": {},
     "output_type": "execute_result"
    }
   ],
   "source": [
    "check(w)"
   ]
  },
  {
   "cell_type": "markdown",
   "id": "accc85db",
   "metadata": {},
   "source": [
    "# ニュートン法"
   ]
  },
  {
   "cell_type": "code",
   "execution_count": 128,
   "id": "8c7f77cf",
   "metadata": {},
   "outputs": [],
   "source": [
    "w2 = np.zeros(4)"
   ]
  },
  {
   "cell_type": "code",
   "execution_count": 129,
   "id": "3ae44643",
   "metadata": {},
   "outputs": [
    {
     "data": {
      "text/plain": [
       "112"
      ]
     },
     "execution_count": 129,
     "metadata": {},
     "output_type": "execute_result"
    }
   ],
   "source": [
    "check(w2)"
   ]
  },
  {
   "cell_type": "code",
   "execution_count": 130,
   "id": "deb832ff",
   "metadata": {},
   "outputs": [],
   "source": [
    "res2 = []\n",
    "res2.append(w2.copy())\n",
    "for i in range(200):\n",
    "    w2 -= np.dot(np.linalg.inv(J_hessian(w2)), dJdw(w2))\n",
    "    res2.append(w2.copy())"
   ]
  },
  {
   "cell_type": "code",
   "execution_count": 131,
   "id": "25ef43f1",
   "metadata": {},
   "outputs": [
    {
     "data": {
      "text/plain": [
       "19"
      ]
     },
     "execution_count": 131,
     "metadata": {},
     "output_type": "execute_result"
    }
   ],
   "source": [
    "check(w2)"
   ]
  },
  {
   "cell_type": "markdown",
   "id": "4bcb32db",
   "metadata": {},
   "source": [
    "# 結果を可視化"
   ]
  },
  {
   "cell_type": "code",
   "execution_count": 132,
   "id": "c82fb56b",
   "metadata": {},
   "outputs": [
    {
     "data": {
      "text/plain": [
       "array([ 4.60189288, -2.09403347, -0.24238406, -0.31604861])"
      ]
     },
     "execution_count": 132,
     "metadata": {},
     "output_type": "execute_result"
    }
   ],
   "source": [
    "w"
   ]
  },
  {
   "cell_type": "code",
   "execution_count": 133,
   "id": "30e4622c",
   "metadata": {},
   "outputs": [
    {
     "data": {
      "text/plain": [
       "array([ 4.6402715 , -2.10998965, -0.24262275, -0.32044576])"
      ]
     },
     "execution_count": 133,
     "metadata": {},
     "output_type": "execute_result"
    }
   ],
   "source": [
    "w2"
   ]
  },
  {
   "cell_type": "code",
   "execution_count": 136,
   "id": "71809e67",
   "metadata": {},
   "outputs": [
    {
     "data": {
      "image/png": "[encoded data removed]",
      "text/plain": [
       "<Figure size 432x288 with 1 Axes>"
      ]
     },
     "metadata": {
      "needs_background": "light"
     },
     "output_type": "display_data"
    }
   ],
   "source": [
    "import matplotlib.pyplot as plt\n",
    "%matplotlib inline\n",
    "def l1(x):\n",
    "    return sum([abs(i) for i in x])\n",
    "\n",
    "plt.plot([i for i in range(len(res1))], [l1(i - res2[len(res2)-1]) for i in res1], label=\"batch steepest gradient method\")\n",
    "plt.plot([i for i in range(len(res1))], [l1(i - res2[len(res2)-1]) for i in res2], label=\"Newton based method\")\n",
    "\n",
    "plt.xlabel(\"step\")\n",
    "plt.ylabel(\"L1 norm\")\n",
    "plt.legend()\n",
    "plt.show()"
   ]
  },
  {
   "cell_type": "code",
   "execution_count": 137,
   "id": "c78d42e3",
   "metadata": {},
   "outputs": [
    {
     "data": {
      "image/png": "[encoded data removed]",
      "text/plain": [
       "<Figure size 432x288 with 1 Axes>"
      ]
     },
     "metadata": {
      "needs_background": "light"
     },
     "output_type": "display_data"
    }
   ],
   "source": [
    "plt.plot([i for i in range(len(res1))], [l1(i - res2[len(res2)-1]) for i in res1], label=\"batch steepest gradient method\")\n",
    "plt.plot([i for i in range(len(res1))], [l1(i - res2[len(res2)-1]) for i in res2], label=\"Newton based method\")\n",
    "\n",
    "plt.yscale(\"log\")\n",
    "plt.xlabel(\"step\")\n",
    "plt.ylabel(\"L1 norm\")\n",
    "plt.legend()\n",
    "plt.show()"
   ]
  },
  {
   "cell_type": "code",
   "execution_count": null,
   "id": "eb4c521e",
   "metadata": {},
   "outputs": [],
   "source": []
  }
 ],
 "metadata": {
  "kernelspec": {
   "display_name": "Python 3 (ipykernel)",
   "language": "python",
   "name": "python3"
  },
  "language_info": {
   "codemirror_mode": {
    "name": "ipython",
    "version": 3
   },
   "file_extension": ".py",
   "mimetype": "text/x-python",
   "name": "python",
   "nbconvert_exporter": "python",
   "pygments_lexer": "ipython3",
   "version": "3.8.10"
  }
 },
 "nbformat": 4,
 "nbformat_minor": 5
}
